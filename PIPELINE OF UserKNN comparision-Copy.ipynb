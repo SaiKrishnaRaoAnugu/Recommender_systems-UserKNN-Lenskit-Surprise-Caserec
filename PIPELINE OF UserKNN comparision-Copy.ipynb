{
 "cells": [
  {
   "cell_type": "markdown",
   "id": "4c512946",
   "metadata": {},
   "source": [
    "# The Pipeline for comparision of Lenskit, Surprise and Caserec frameworks implementing the User-based K-nearest neighbours algorithm"
   ]
  },
  {
   "cell_type": "markdown",
   "id": "85a03451",
   "metadata": {},
   "source": [
    "### Loading the MovieLens 100k Dataset Using Pandas"
   ]
  },
  {
   "cell_type": "code",
   "execution_count": 1,
   "id": "fbd03084",
   "metadata": {},
   "outputs": [],
   "source": [
    "import numpy as np\n",
    "import pandas as pd\n",
    "import math\n",
    "from numpy import mean"
   ]
  },
  {
   "cell_type": "code",
   "execution_count": 2,
   "id": "cdfa1094",
   "metadata": {},
   "outputs": [
    {
     "data": {
      "text/html": [
       "<div>\n",
       "<style scoped>\n",
       "    .dataframe tbody tr th:only-of-type {\n",
       "        vertical-align: middle;\n",
       "    }\n",
       "\n",
       "    .dataframe tbody tr th {\n",
       "        vertical-align: top;\n",
       "    }\n",
       "\n",
       "    .dataframe thead th {\n",
       "        text-align: right;\n",
       "    }\n",
       "</style>\n",
       "<table border=\"1\" class=\"dataframe\">\n",
       "  <thead>\n",
       "    <tr style=\"text-align: right;\">\n",
       "      <th></th>\n",
       "      <th>user</th>\n",
       "      <th>item</th>\n",
       "      <th>rating</th>\n",
       "      <th>timestamp</th>\n",
       "    </tr>\n",
       "  </thead>\n",
       "  <tbody>\n",
       "    <tr>\n",
       "      <th>0</th>\n",
       "      <td>196</td>\n",
       "      <td>242</td>\n",
       "      <td>3</td>\n",
       "      <td>881250949</td>\n",
       "    </tr>\n",
       "    <tr>\n",
       "      <th>1</th>\n",
       "      <td>186</td>\n",
       "      <td>302</td>\n",
       "      <td>3</td>\n",
       "      <td>891717742</td>\n",
       "    </tr>\n",
       "    <tr>\n",
       "      <th>2</th>\n",
       "      <td>22</td>\n",
       "      <td>377</td>\n",
       "      <td>1</td>\n",
       "      <td>878887116</td>\n",
       "    </tr>\n",
       "    <tr>\n",
       "      <th>3</th>\n",
       "      <td>244</td>\n",
       "      <td>51</td>\n",
       "      <td>2</td>\n",
       "      <td>880606923</td>\n",
       "    </tr>\n",
       "    <tr>\n",
       "      <th>4</th>\n",
       "      <td>166</td>\n",
       "      <td>346</td>\n",
       "      <td>1</td>\n",
       "      <td>886397596</td>\n",
       "    </tr>\n",
       "  </tbody>\n",
       "</table>\n",
       "</div>"
      ],
      "text/plain": [
       "   user  item  rating  timestamp\n",
       "0   196   242       3  881250949\n",
       "1   186   302       3  891717742\n",
       "2    22   377       1  878887116\n",
       "3   244    51       2  880606923\n",
       "4   166   346       1  886397596"
      ]
     },
     "execution_count": 2,
     "metadata": {},
     "output_type": "execute_result"
    }
   ],
   "source": [
    "data_path = r'C:\\Users\\SaiKrishna Rao Anugu\\OneDrive\\Desktop\\RecSys- Project\\ml-100k/u.data'# This is the path of the u.data file\\\n",
    "# of the movielens 100k dataset, you need to download the movielens 100k dataset and copy paste the u.data file path here\n",
    "\n",
    "data = pd.read_csv(data_path, sep = '\\t', header = None, names = ['user', 'item', 'rating', 'timestamp'])# data in text format\\\n",
    "                                                                                                        #converted to pandas DataFrame\n",
    "data.head()# to view the first 5 rows of dataset"
   ]
  },
  {
   "cell_type": "markdown",
   "id": "6f8cd262",
   "metadata": {},
   "source": [
    "### spliting the dataset into 5-folds using partition_users() method from Lenskit"
   ]
  },
  {
   "cell_type": "code",
   "execution_count": 3,
   "id": "bcb8f0bd",
   "metadata": {},
   "outputs": [],
   "source": [
    "import lenskit\n",
    "from lenskit import crossfold as xf"
   ]
  },
  {
   "cell_type": "code",
   "execution_count": 4,
   "id": "6e462070",
   "metadata": {},
   "outputs": [
    {
     "name": "stdout",
     "output_type": "stream",
     "text": [
      "91740\n",
      "3789\n"
     ]
    }
   ],
   "source": [
    "# created the train_set and test_set list and using the partition_users splitted the data and appended all the 5 folds train&test\n",
    "#sets in to the lists created.\n",
    "num_of_folds = 5\n",
    "train_set = []\n",
    "test_set = []\n",
    "for (train, test) in xf.partition_users(data, 5, xf.SampleFrac(0.2)):\n",
    "    train_set.append(train)\n",
    "    test_set.append(test)\n",
    "print(len(train_set[0]))\n",
    "print(len(test_set[0]))"
   ]
  },
  {
   "cell_type": "code",
   "execution_count": 5,
   "id": "3d06b6d0",
   "metadata": {},
   "outputs": [
    {
     "data": {
      "image/png": "[encoded data removed]",
      "text/plain": [
       "<Figure size 432x288 with 1 Axes>"
      ]
     },
     "metadata": {},
     "output_type": "display_data"
    }
   ],
   "source": [
    "#A pie chart of a single fold dataset with portions of train_set and test_set\n",
    "import matplotlib.pyplot as plt \n",
    "pie_data = {'train_set' :len(train_set[0]), 'test_set': len(test_set[0])}\n",
    "explode = (0,0.5)\n",
    "colors = ['lightgreen', 'orange']\n",
    "plt.pie(pie_data.values(), explode=explode, labels=pie_data.keys(),colors=colors, autopct='%1.1f%%', shadow= True, startangle= 0)\n",
    "plt.axis('equal')\n",
    "plt.show()"
   ]
  },
  {
   "cell_type": "markdown",
   "id": "7874c016",
   "metadata": {},
   "source": [
    "## Predicting ratings for the users using UserKNN algorithm with:"
   ]
  },
  {
   "cell_type": "markdown",
   "id": "c49d845e",
   "metadata": {},
   "source": [
    "## Lenskit"
   ]
  },
  {
   "cell_type": "code",
   "execution_count": 6,
   "id": "f00fd163",
   "metadata": {},
   "outputs": [],
   "source": [
    "import lenskit\n",
    "from lenskit import datasets,util \n",
    "from lenskit import algorithms\n",
    "from lenskit.algorithms import Recommender, als, user_knn as knn\n",
    "from lenskit import crossfold as xf\n",
    "from lenskit.batch import predict\n",
    "import lenskit.metrics.predict as pm"
   ]
  },
  {
   "cell_type": "code",
   "execution_count": 7,
   "id": "57f8905d",
   "metadata": {},
   "outputs": [],
   "source": [
    "# created a lenksit_model list, then appended the 5 different models for 5 folds (using userknn algorithm ) into list created\n",
    "lenskit_model = []\n",
    "for i in range(num_of_folds):\n",
    "    lenskit_model.append(lenskit.algorithms.user_knn.UserUser(nnbrs = 40, min_nbrs=1, min_sim=0, feedback='explicit'))\n",
    "    "
   ]
  },
  {
   "cell_type": "code",
   "execution_count": 8,
   "id": "901fc72e",
   "metadata": {},
   "outputs": [],
   "source": [
    "# defined a fuction called get_ratings_and_predictions, where the parameters are the models we created above and train, test\n",
    "# sets from each fold\n",
    "def get_ratings_and_predictions(model, train_set, test_set):\n",
    "    #model = lenskit.algorithms.user_knn.UserUser(nnbrs = 40, min_nbrs=1, min_sim= 0, feedback='explicit')\n",
    "    model.fit(train_set)\n",
    "    preds = predict(model, test_set)\n",
    "    preds['prediction'] = preds['prediction'].fillna(0)\n",
    "    ratings_list = (preds['rating'].values.tolist())\n",
    "    predictions_list =(preds['prediction'].values.tolist())\n",
    "    return ratings_list, predictions_list\n",
    "    "
   ]
  },
  {
   "cell_type": "code",
   "execution_count": 9,
   "id": "f28ecddb",
   "metadata": {},
   "outputs": [
    {
     "name": "stderr",
     "output_type": "stream",
     "text": [
      "BLAS using multiple threads - can cause oversubscription\n",
      "found 1 potential runtime problems - see https://boi.st/lkpy-perf\n"
     ]
    }
   ],
   "source": [
    "#created all_ratings_list, all_predictions_list for which we append the ratings and predictions for every fold by calling the\n",
    "# get_ratings_and_predictions function which is defined earlier\n",
    "all_ratings_list = []\n",
    "all_predictions_list = []\n",
    "for i in range(num_of_folds):\n",
    "    a,b = get_ratings_and_predictions(lenskit_model[i],train_set[i], test_set[i])\n",
    "    all_ratings_list.append(a)\n",
    "    all_predictions_list.append(b)"
   ]
  },
  {
   "cell_type": "code",
   "execution_count": 10,
   "id": "7ca0a6a7",
   "metadata": {},
   "outputs": [],
   "source": [
    "#defined a function called Mectric_Eval, by which we can calculate RMSE and MAE values for each fold\n",
    "def Metric_Eval(ratings, predictions):\n",
    "    mae_total = 0\n",
    "    rmse_total = 0\n",
    "    for i in range(len(predictions)):\n",
    "        mae_value = np.abs(ratings[i] - predictions[i])\n",
    "        rmse_value = (ratings[i] - predictions[i])**2\n",
    "        mae_total = mae_total + mae_value\n",
    "        rmse_total = rmse_total + rmse_value\n",
    "\n",
    "    mae =  mae_total / (len(ratings))\n",
    "    rmse =  np.sqrt(rmse_total / (len(ratings)))\n",
    "    return rmse,mae"
   ]
  },
  {
   "cell_type": "code",
   "execution_count": 11,
   "id": "47704a3c",
   "metadata": {},
   "outputs": [],
   "source": [
    "#created rmse_list and mae_list, where we can collect the rmse and mae values of all the folds in to the lists by calling\n",
    "# the Metric_Eval function which is defined above\n",
    "rmse_list = []\n",
    "mae_list= []\n",
    "for i in range(num_of_folds):\n",
    "    r, m = Metric_Eval(all_ratings_list[i],all_predictions_list[i])\n",
    "    rmse_list.append(r)\n",
    "    mae_list.append(m)"
   ]
  },
  {
   "cell_type": "code",
   "execution_count": 12,
   "id": "3e75da1f",
   "metadata": {},
   "outputs": [],
   "source": [
    "# here calculating the mean of rmse of all the folds\n",
    "lenskit_rmse = np.mean(rmse_list)"
   ]
  },
  {
   "cell_type": "code",
   "execution_count": 13,
   "id": "c8b7c722",
   "metadata": {},
   "outputs": [],
   "source": [
    "# here calculating the mean of mae of all the folds\n",
    "lenskit_mae = np.mean(mae_list)"
   ]
  },
  {
   "cell_type": "code",
   "execution_count": 14,
   "id": "498286ba",
   "metadata": {},
   "outputs": [
    {
     "name": "stdout",
     "output_type": "stream",
     "text": [
      "lenskit_rmse:  0.9450171505134115\n",
      "lenskit_mae:  0.7339649834199072\n"
     ]
    }
   ],
   "source": [
    "#printing the rmse and mae metric values of lenskit model\n",
    "print(\"lenskit_rmse: \",lenskit_rmse)  \n",
    "print (\"lenskit_mae: \",lenskit_mae)"
   ]
  },
  {
   "cell_type": "markdown",
   "id": "f429a39b",
   "metadata": {},
   "source": [
    "# Surprise"
   ]
  },
  {
   "cell_type": "code",
   "execution_count": 15,
   "id": "2975181d",
   "metadata": {},
   "outputs": [],
   "source": [
    "import surprise\n",
    "import os\n",
    "from surprise import KNNWithMeans\n",
    "from surprise.prediction_algorithms.matrix_factorization import SVD\n",
    "from surprise import Reader\n",
    "from surprise import Dataset\n",
    "from surprise import accuracy\n",
    "from surprise.model_selection import cross_validate\n",
    "from surprise.prediction_algorithms.algo_base import AlgoBase"
   ]
  },
  {
   "cell_type": "code",
   "execution_count": 16,
   "id": "7d1aed1b",
   "metadata": {},
   "outputs": [],
   "source": [
    "#UserKNN algorithm of Surprise framework\n",
    "sim_options = {'name' : 'cosine', 'user_based' : True}\n",
    "model = KNNWithMeans(k = 40, min_k = 1, sim_options = sim_options, verbose = True )"
   ]
  },
  {
   "cell_type": "code",
   "execution_count": 17,
   "id": "1f27f4c0",
   "metadata": {},
   "outputs": [],
   "source": [
    "#created surprise trainsets from the trainsets (which we get from lenskit partition_user method), using build_full_trainset() method \n",
    "surprise_train_set = []\n",
    "for i in range(num_of_folds):\n",
    "    reader = Reader(rating_scale=(1, 5))\n",
    "    surprise_train_set.append(Dataset.load_from_df(train_set[i][['user', 'item', 'rating']], reader = reader).build_full_trainset())"
   ]
  },
  {
   "cell_type": "code",
   "execution_count": 18,
   "id": "2d318ce9",
   "metadata": {},
   "outputs": [],
   "source": [
    "#Converted userid, itemid and ratings from the pandas DataFrame to the lists, so we can use them for getting the predictions\n",
    "user_list = []\n",
    "item_list = []\n",
    "rating_list =[]\n",
    "for i in range(num_of_folds):\n",
    "    user_list.append(test_set[i].user.values.tolist())\n",
    "    item_list.append(test_set[i].item.values.tolist())\n",
    "    rating_list.append(test_set[i].rating.values.tolist())"
   ]
  },
  {
   "cell_type": "code",
   "execution_count": 19,
   "id": "1052ab81",
   "metadata": {},
   "outputs": [],
   "source": [
    "# created a surprise_model list, where appended the 5 different models for 5 folds (using userknn algorithm ) into list created\n",
    "surprise_model = []\n",
    "for i in range(num_of_folds):\n",
    "    surprise_model.append(KNNWithMeans(k = 40, min_k = 1, sim_options = sim_options, verbose = True ))\n",
    "    "
   ]
  },
  {
   "cell_type": "code",
   "execution_count": 20,
   "id": "17779ed3",
   "metadata": {},
   "outputs": [],
   "source": [
    "#defined a function called get_predictions, where the parameters are the model, trainset, testset, userid, itemid\n",
    "#it just return the predictions list.\n",
    "def get_predictions(model,train_set,test_set,userid,itemid):\n",
    "    model.fit(train_set)\n",
    "    predictions = []\n",
    "    for i in range(len(test_set)):\n",
    "        preds = model.predict(userid[i], itemid[i])\n",
    "        predictions.append(preds.est)\n",
    "    return predictions\n",
    "            \n",
    "        "
   ]
  },
  {
   "cell_type": "code",
   "execution_count": 21,
   "id": "a87c7b43",
   "metadata": {},
   "outputs": [
    {
     "name": "stdout",
     "output_type": "stream",
     "text": [
      "Computing the cosine similarity matrix...\n",
      "Done computing similarity matrix.\n",
      "Computing the cosine similarity matrix...\n",
      "Done computing similarity matrix.\n",
      "Computing the cosine similarity matrix...\n",
      "Done computing similarity matrix.\n",
      "Computing the cosine similarity matrix...\n",
      "Done computing similarity matrix.\n",
      "Computing the cosine similarity matrix...\n",
      "Done computing similarity matrix.\n"
     ]
    }
   ],
   "source": [
    "#created a loop for collecting predictions from 5 folds, by applying 5 models created above\n",
    "all_folds_predictions = []\n",
    "for i in range(num_of_folds):\n",
    "    surprise_predictions = get_predictions(surprise_model[i],surprise_train_set[i], test_set[i],user_list[i],item_list[i])\n",
    "    all_folds_predictions.append(surprise_predictions)\n",
    "        "
   ]
  },
  {
   "cell_type": "code",
   "execution_count": 22,
   "id": "4d7d081a",
   "metadata": {},
   "outputs": [],
   "source": [
    "# called the Metric_Eval function and created lists for collecting rmse and mae values from all the folds.\n",
    "surprise_rmse_list = []\n",
    "surprise_mae_list= []\n",
    "for i in range(num_of_folds):\n",
    "    r, m = Metric_Eval(rating_list[i],all_folds_predictions[i])\n",
    "    surprise_rmse_list.append(r)\n",
    "    surprise_mae_list.append(m)"
   ]
  },
  {
   "cell_type": "code",
   "execution_count": 23,
   "id": "d4c01598",
   "metadata": {},
   "outputs": [],
   "source": [
    "#calculating the mean for rmse and mae values of 5 folds\n",
    "surprise_rmse = np.mean(surprise_rmse_list)\n",
    "surprise_mae = np.mean(surprise_mae_list)"
   ]
  },
  {
   "cell_type": "code",
   "execution_count": 24,
   "id": "8c98d253",
   "metadata": {},
   "outputs": [
    {
     "name": "stdout",
     "output_type": "stream",
     "text": [
      "surprise_rmse:  0.9573285712983213\n",
      "surprise_mae:  0.753144033435494\n"
     ]
    }
   ],
   "source": [
    "# printing the rmse & mae values which are the mean values of all the folds\n",
    "print(\"surprise_rmse: \",surprise_rmse)  \n",
    "print (\"surprise_mae: \", surprise_mae)"
   ]
  },
  {
   "cell_type": "markdown",
   "id": "afeb031f",
   "metadata": {},
   "source": [
    "# CaseRec"
   ]
  },
  {
   "cell_type": "code",
   "execution_count": 25,
   "id": "54d586ed",
   "metadata": {},
   "outputs": [],
   "source": [
    "from caserec.recommenders.rating_prediction.user_attribute_knn import UserAttributeKNN\n",
    "from caserec.recommenders.rating_prediction.item_attribute_knn import ItemAttributeKNN\n",
    "from caserec.recommenders.rating_prediction.itemknn import ItemKNN\n",
    "from caserec.recommenders.rating_prediction.userknn import UserKNN\n",
    "from caserec.utils.cross_validation import CrossValidation\n",
    "from caserec.utils.split_database import SplitDatabase\n",
    "from caserec.evaluation.rating_prediction import RatingPredictionEvaluation\n",
    "from caserec.utils.process_data import ReadFile"
   ]
  },
  {
   "cell_type": "code",
   "execution_count": 26,
   "id": "f280c095",
   "metadata": {},
   "outputs": [],
   "source": [
    "# converted the trainset(from partition_users(lenskit)) into file format and saved in the directory\n",
    "#NOTE : when you run this cell the train_sets from all the folds are saved as text files, in a folder where actually jupyter files\n",
    "# are saved\n",
    "caserec_trainset_1 = train_set[0].to_csv('train_set[0]', sep = '\\t', header = False, index = False)\n",
    "caserec_trainset_2 = train_set[1].to_csv('train_set[1]', sep = '\\t', header = False, index = False)\n",
    "caserec_trainset_3 = train_set[2].to_csv('train_set[2]', sep = '\\t', header = False, index = False)\n",
    "caserec_trainset_4 = train_set[3].to_csv('train_set[3]', sep = '\\t', header = False, index = False)\n",
    "caserec_trainset_5 = train_set[4].to_csv('train_set[4]', sep = '\\t', header = False, index = False)"
   ]
  },
  {
   "cell_type": "code",
   "execution_count": 27,
   "id": "f9410ff2",
   "metadata": {},
   "outputs": [],
   "source": [
    "# converted the testset(from partition_users(lenskit)) into file format and saved in the directory\n",
    "#NOTE : when you run this cell the test_sets from all the folds are saved as text files, in a folder where actually jupyter files\n",
    "# are saved\n",
    "caserec_testset_1 = test_set[0].to_csv('test_set[0]', sep = '\\t', header = False, index = False)\n",
    "caserec_testset_2 = test_set[1].to_csv('test_set[1]', sep = '\\t', header = False, index = False)\n",
    "caserec_testset_3 = test_set[2].to_csv('test_set[2]', sep = '\\t', header = False, index = False)\n",
    "caserec_testset_4 = test_set[3].to_csv('test_set[3]', sep = '\\t', header = False, index = False)\n",
    "caserec_testset_5 = test_set[4].to_csv('test_set[4]', sep = '\\t', header = False, index = False)"
   ]
  },
  {
   "cell_type": "code",
   "execution_count": 28,
   "id": "7c1abcea",
   "metadata": {},
   "outputs": [],
   "source": [
    "# these are the text document directory paths of 5 fold trainsets, which we converted them from dataframe above\n",
    "#NOTE:These are the paths of the files saved in the folder of my pc, it will be different in your case. So please copy and paste\n",
    "#the paths of the directory where the data has been saved in your pc, when you convert the dataframs to files \n",
    "caserec_trainset_filepath_1 = r\"C:\\Users\\SaiKrishna Rao Anugu\\train_set[0]\"\n",
    "caserec_trainset_filepath_2 = r\"C:\\Users\\SaiKrishna Rao Anugu\\train_set[1]\"\n",
    "caserec_trainset_filepath_3 = r\"C:\\Users\\SaiKrishna Rao Anugu\\train_set[2]\"\n",
    "caserec_trainset_filepath_4 = r\"C:\\Users\\SaiKrishna Rao Anugu\\train_set[3]\"\n",
    "caserec_trainset_filepath_5 = r\"C:\\Users\\SaiKrishna Rao Anugu\\train_set[4]\"\n",
    "caserec_trainset_filepath = [caserec_trainset_filepath_1,caserec_trainset_filepath_2,caserec_trainset_filepath_3,caserec_trainset_filepath_4,caserec_trainset_filepath_5]"
   ]
  },
  {
   "cell_type": "code",
   "execution_count": 29,
   "id": "70b3c956",
   "metadata": {},
   "outputs": [],
   "source": [
    "# these are the text document  directory paths of 5 fold testsets, which we converted them from dataframe above\n",
    "# NOTE: These are the paths of the files saved in the folder of my pc, it will be different in your case. So please copy and paste\n",
    "#the paths of the directory where the data has been saved in your pc, when you convert the dataframs to files \n",
    "caserec_testset_filepath_1 = r\"C:\\Users\\SaiKrishna Rao Anugu\\test_set[0]\"\n",
    "caserec_testset_filepath_2 = r\"C:\\Users\\SaiKrishna Rao Anugu\\test_set[1]\"\n",
    "caserec_testset_filepath_3 = r\"C:\\Users\\SaiKrishna Rao Anugu\\test_set[2]\"\n",
    "caserec_testset_filepath_4 = r\"C:\\Users\\SaiKrishna Rao Anugu\\test_set[3]\"\n",
    "caserec_testset_filepath_5 = r\"C:\\Users\\SaiKrishna Rao Anugu\\test_set[4]\"\n",
    "caserec_testset_filepath = [caserec_testset_filepath_1,caserec_testset_filepath_2,caserec_testset_filepath_3,caserec_testset_filepath_4,caserec_testset_filepath_5]"
   ]
  },
  {
   "cell_type": "code",
   "execution_count": 30,
   "id": "341d2365",
   "metadata": {},
   "outputs": [],
   "source": [
    "#created 5 prediction text documents manually in one of the folder in my pc, and pasted the paths of them here, So when we run \n",
    "#the model all the predictions of 5 folds will be saved in these text documents via these paths\n",
    "# NOTE: These text document files should me manually created and named as below and their paths should be copied and pasted here\n",
    "# Therefore when we run the compute method, all the calculated prediction values are going to be saved in the text documents \n",
    "# through these paths\n",
    "predictions_output_filepath_1= r\"C:\\Users\\SaiKrishna Rao Anugu\\predictions_output_1.dat\"\n",
    "predictions_output_filepath_2= r\"C:\\Users\\SaiKrishna Rao Anugu\\predictions_output_2.dat\"\n",
    "predictions_output_filepath_3= r\"C:\\Users\\SaiKrishna Rao Anugu\\predictions_output_3.dat\"\n",
    "predictions_output_filepath_4= r\"C:\\Users\\SaiKrishna Rao Anugu\\predictions_output_4.dat\"\n",
    "predictions_output_filepath_5= r\"C:\\Users\\SaiKrishna Rao Anugu\\predictions_output_5.dat\"\n",
    "predictions_output_filepath= [predictions_output_filepath_1,predictions_output_filepath_2,predictions_output_filepath_3,predictions_output_filepath_4,predictions_output_filepath_5]"
   ]
  },
  {
   "cell_type": "code",
   "execution_count": 31,
   "id": "c79b6728",
   "metadata": {},
   "outputs": [],
   "source": [
    "#created 5 different models for 5 folds using userknn algorithm \n",
    "caserec_model = []\n",
    "for i in range(num_of_folds):\n",
    "    model = UserKNN(caserec_trainset_filepath[i],caserec_testset_filepath[i],output_file = predictions_output_filepath[i], similarity_metric=\"cosine\", k_neighbors= 40)\n",
    "    caserec_model.append(model)  "
   ]
  },
  {
   "cell_type": "code",
   "execution_count": 32,
   "id": "0d2eb36a",
   "metadata": {},
   "outputs": [],
   "source": [
    "#defined a function called get_predictions_caserec, from which we can get predictions of 5 folds by giving 5 models as parameters \n",
    "def get_predictions_caserec(model):\n",
    "    model.compute(verbose_evaluation = False, verbose = False)        "
   ]
  },
  {
   "cell_type": "code",
   "execution_count": 33,
   "id": "0c6a0b65",
   "metadata": {},
   "outputs": [],
   "source": [
    "#created loop for getting all the 5 folds predictions\n",
    "for i in range(num_of_folds):\n",
    "    get_predictions_caserec(caserec_model[i])"
   ]
  },
  {
   "cell_type": "markdown",
   "id": "1b0cbe29",
   "metadata": {},
   "source": [
    "### Now converting the predictions files to Pandas DataFrame"
   ]
  },
  {
   "cell_type": "code",
   "execution_count": 34,
   "id": "9e0e3ccb",
   "metadata": {},
   "outputs": [
    {
     "data": {
      "text/plain": [
       "3789"
      ]
     },
     "execution_count": 34,
     "metadata": {},
     "output_type": "execute_result"
    }
   ],
   "source": [
    "# converting the predictions text file to pandas dataframe\n",
    "caserec_prediction_df = []\n",
    "for i in range(num_of_folds):\n",
    "    caserec_prediction_df.append(pd.read_csv(predictions_output_filepath[i], sep = '\\t', header = None, names = ['user', 'item', 'prediction']))\n",
    "len(caserec_prediction_df[0])"
   ]
  },
  {
   "cell_type": "code",
   "execution_count": 35,
   "id": "a75dfac5",
   "metadata": {},
   "outputs": [],
   "source": [
    "# sorted the ratings of test_sets of all the folds by user then the items, because the predictions in the prediction df are sorted\n",
    "# in the same way. So inorder to compare both for calculating the metrics, both should be similarly sorted\n",
    "for i in range(num_of_folds):\n",
    "    test_set[i]= test_set[i].sort_values(by=[\"user\", 'item'])"
   ]
  },
  {
   "cell_type": "code",
   "execution_count": 36,
   "id": "288c8c88",
   "metadata": {},
   "outputs": [
    {
     "name": "stdout",
     "output_type": "stream",
     "text": [
      "       user  item  rating  timestamp\n",
      "50664     6     7       2  883599102\n",
      "65371     6     9       4  883599205\n",
      "7774      6    28       2  883603013\n",
      "41450     6    71       4  883601053\n",
      "3672      6    95       2  883602133\n",
      "...     ...   ...     ...        ...\n",
      "87633   933  1188       1  874938474\n",
      "71352   941   117       5  875048886\n",
      "95587   941   273       3  875049038\n",
      "92090   941   300       4  875048495\n",
      "80319   941   475       4  875049038\n",
      "\n",
      "[3789 rows x 4 columns]\n",
      "      user  item  prediction\n",
      "0        6     7    3.871828\n",
      "1        6     9    4.123576\n",
      "2        6    28    3.565317\n",
      "3        6    71    3.390334\n",
      "4        6    95    3.338825\n",
      "...    ...   ...         ...\n",
      "3784   933  1188    2.055035\n",
      "3785   941   117    3.802881\n",
      "3786   941   273    3.864283\n",
      "3787   941   300    3.927043\n",
      "3788   941   475    3.937500\n",
      "\n",
      "[3789 rows x 3 columns]\n"
     ]
    }
   ],
   "source": [
    "# This is to prove that both testset and prediction dataframes are sorted by user and then item, similarly\n",
    "print(test_set[0])\n",
    "print(caserec_prediction_df[0])"
   ]
  },
  {
   "cell_type": "code",
   "execution_count": 37,
   "id": "a9089bff",
   "metadata": {},
   "outputs": [
    {
     "name": "stdout",
     "output_type": "stream",
     "text": [
      "3789\n",
      "3789\n"
     ]
    }
   ],
   "source": [
    "#converted all the ratings and prediction values to lists from dataframe\n",
    "caserec_rating_list = []\n",
    "caserec_prediction_list=[]\n",
    "for i in range(num_of_folds):\n",
    "    caserec_rating_list.append(test_set[i]['rating'].values.tolist())\n",
    "    caserec_prediction_list.append(caserec_prediction_df[i]['prediction'].values.tolist())\n",
    "print(len(caserec_rating_list[0]))\n",
    "print(len(caserec_prediction_list[0]))"
   ]
  },
  {
   "cell_type": "code",
   "execution_count": 38,
   "id": "920b1136",
   "metadata": {},
   "outputs": [],
   "source": [
    "#called the Metric_Eval function and collected rmse and mae values of 5 folds into lists\n",
    "caserec_rmse_list = []\n",
    "caserec_mae_list= []\n",
    "for i in range(num_of_folds):\n",
    "    r, m = Metric_Eval(caserec_rating_list[i],caserec_prediction_list[i])\n",
    "    caserec_rmse_list.append(r)\n",
    "    caserec_mae_list.append(m)"
   ]
  },
  {
   "cell_type": "code",
   "execution_count": 39,
   "id": "5b8db971",
   "metadata": {},
   "outputs": [],
   "source": [
    "#calculated the mean for rmse and mae values of 5 folds\n",
    "caserec_rmse = np.mean(caserec_rmse_list)\n",
    "caserec_mae = np.mean(caserec_mae_list)"
   ]
  },
  {
   "cell_type": "code",
   "execution_count": 40,
   "id": "7d4cbba0",
   "metadata": {},
   "outputs": [
    {
     "name": "stdout",
     "output_type": "stream",
     "text": [
      "caserec_rmse:  0.9423402656857676\n",
      "caserec_mae:  0.7351002079582669\n"
     ]
    }
   ],
   "source": [
    "print(\"caserec_rmse: \",caserec_rmse)  \n",
    "print (\"caserec_mae: \",caserec_mae)"
   ]
  },
  {
   "cell_type": "markdown",
   "id": "2b79281c",
   "metadata": {},
   "source": [
    "### Plotting the bar chart for comparing the metric values of the three libraries"
   ]
  },
  {
   "cell_type": "code",
   "execution_count": 41,
   "id": "f13cc4c3",
   "metadata": {},
   "outputs": [
    {
     "data": {
      "text/html": [
       "<div>\n",
       "<style scoped>\n",
       "    .dataframe tbody tr th:only-of-type {\n",
       "        vertical-align: middle;\n",
       "    }\n",
       "\n",
       "    .dataframe tbody tr th {\n",
       "        vertical-align: top;\n",
       "    }\n",
       "\n",
       "    .dataframe thead th {\n",
       "        text-align: right;\n",
       "    }\n",
       "</style>\n",
       "<table border=\"1\" class=\"dataframe\">\n",
       "  <thead>\n",
       "    <tr style=\"text-align: right;\">\n",
       "      <th></th>\n",
       "      <th>RMSE</th>\n",
       "      <th>MAE</th>\n",
       "    </tr>\n",
       "  </thead>\n",
       "  <tbody>\n",
       "    <tr>\n",
       "      <th>lenskit</th>\n",
       "      <td>0.945017</td>\n",
       "      <td>0.733965</td>\n",
       "    </tr>\n",
       "    <tr>\n",
       "      <th>surprise</th>\n",
       "      <td>0.957329</td>\n",
       "      <td>0.753144</td>\n",
       "    </tr>\n",
       "    <tr>\n",
       "      <th>caserec</th>\n",
       "      <td>0.942340</td>\n",
       "      <td>0.735100</td>\n",
       "    </tr>\n",
       "  </tbody>\n",
       "</table>\n",
       "</div>"
      ],
      "text/plain": [
       "              RMSE       MAE\n",
       "lenskit   0.945017  0.733965\n",
       "surprise  0.957329  0.753144\n",
       "caserec   0.942340  0.735100"
      ]
     },
     "execution_count": 41,
     "metadata": {},
     "output_type": "execute_result"
    }
   ],
   "source": [
    "#created a pandas dataframe where rows are library names and columns are metric values\n",
    "RMSE = [lenskit_rmse, surprise_rmse, caserec_rmse]\n",
    "MAE = [lenskit_mae, surprise_mae, caserec_mae]\n",
    "d = {'RMSE': RMSE, 'MAE': MAE}\n",
    "df = pd.DataFrame(d, index = ['lenskit', 'surprise', 'caserec'])\n",
    "df"
   ]
  },
  {
   "cell_type": "code",
   "execution_count": 42,
   "id": "f4957dd9",
   "metadata": {},
   "outputs": [
    {
     "data": {
      "text/plain": [
       "Text(0, 0.5, 'ERROR')"
      ]
     },
     "execution_count": 42,
     "metadata": {},
     "output_type": "execute_result"
    },
    {
     "data": {
      "image/png": "[encoded data removed]",
      "text/plain": [
       "<Figure size 432x288 with 1 Axes>"
      ]
     },
     "metadata": {
      "needs_background": "light"
     },
     "output_type": "display_data"
    }
   ],
   "source": [
    "#plotted a bar chart for the data in the above dataframe using pandas and matplotlib\n",
    "ax = df.plot.bar(rot = 0)\n",
    "from matplotlib import pyplot as plt\n",
    "plt.title(\"comparing RMSE & MAE metrics of three different Recommender-System Libraries\")\n",
    "plt.xlabel(\" RecSys-Libraries\")\n",
    "plt.ylabel(\"ERROR\")"
   ]
  }
 ],
 "metadata": {
  "kernelspec": {
   "display_name": "Python 3 (ipykernel)",
   "language": "python",
   "name": "python3"
  },
  "language_info": {
   "codemirror_mode": {
    "name": "ipython",
    "version": 3
   },
   "file_extension": ".py",
   "mimetype": "text/x-python",
   "name": "python",
   "nbconvert_exporter": "python",
   "pygments_lexer": "ipython3",
   "version": "3.9.12"
  }
 },
 "nbformat": 4,
 "nbformat_minor": 5
}
